{
 "cells": [
  {
   "attachments": {},
   "cell_type": "markdown",
   "id": "d09f0bda",
   "metadata": {},
   "source": [
    "1. Preprocessing: dealing with missing values, encoding categorical features, creating new features etc (Feature engineering).\n",
    "2. Modelling: use different models, different parameters and different features (feature selection)\n",
    "3. Evaluation: evaluate the model using various metrics, kfold cross validation etc.\n"
   ]
  },
  {
   "cell_type": "code",
   "execution_count": 1,
   "id": "0bca2f09",
   "metadata": {},
   "outputs": [],
   "source": [
    "import pandas as pd\n",
    "\n",
    "df = pd.read_csv(r'train.csv')\n",
    "test = pd.read_csv(r'test.csv')\n",
    "\n",
    "# pclass: A proxy for socio-economic status (SES)\n",
    "# 1st = Upper\n",
    "# 2nd = Middle\n",
    "# 3rd = Lowe\n",
    "\n",
    "y = df[\"Survived\"]\n",
    "X = df.drop([\"Survived\"], axis=1)"
   ]
  },
  {
   "cell_type": "code",
   "execution_count": 2,
   "id": "dc75e35c",
   "metadata": {},
   "outputs": [
    {
     "data": {
      "text/html": [
       "<div>\n",
       "<style scoped>\n",
       "    .dataframe tbody tr th:only-of-type {\n",
       "        vertical-align: middle;\n",
       "    }\n",
       "\n",
       "    .dataframe tbody tr th {\n",
       "        vertical-align: top;\n",
       "    }\n",
       "\n",
       "    .dataframe thead th {\n",
       "        text-align: right;\n",
       "    }\n",
       "</style>\n",
       "<table border=\"1\" class=\"dataframe\">\n",
       "  <thead>\n",
       "    <tr style=\"text-align: right;\">\n",
       "      <th></th>\n",
       "      <th>Pclass</th>\n",
       "      <th>Age</th>\n",
       "      <th>SibSp</th>\n",
       "      <th>Parch</th>\n",
       "      <th>Fare</th>\n",
       "    </tr>\n",
       "  </thead>\n",
       "  <tbody>\n",
       "    <tr>\n",
       "      <th>0</th>\n",
       "      <td>3</td>\n",
       "      <td>22.0</td>\n",
       "      <td>1</td>\n",
       "      <td>0</td>\n",
       "      <td>7.2500</td>\n",
       "    </tr>\n",
       "    <tr>\n",
       "      <th>1</th>\n",
       "      <td>1</td>\n",
       "      <td>38.0</td>\n",
       "      <td>1</td>\n",
       "      <td>0</td>\n",
       "      <td>71.2833</td>\n",
       "    </tr>\n",
       "    <tr>\n",
       "      <th>2</th>\n",
       "      <td>3</td>\n",
       "      <td>26.0</td>\n",
       "      <td>0</td>\n",
       "      <td>0</td>\n",
       "      <td>7.9250</td>\n",
       "    </tr>\n",
       "    <tr>\n",
       "      <th>3</th>\n",
       "      <td>1</td>\n",
       "      <td>35.0</td>\n",
       "      <td>1</td>\n",
       "      <td>0</td>\n",
       "      <td>53.1000</td>\n",
       "    </tr>\n",
       "    <tr>\n",
       "      <th>4</th>\n",
       "      <td>3</td>\n",
       "      <td>35.0</td>\n",
       "      <td>0</td>\n",
       "      <td>0</td>\n",
       "      <td>8.0500</td>\n",
       "    </tr>\n",
       "    <tr>\n",
       "      <th>...</th>\n",
       "      <td>...</td>\n",
       "      <td>...</td>\n",
       "      <td>...</td>\n",
       "      <td>...</td>\n",
       "      <td>...</td>\n",
       "    </tr>\n",
       "    <tr>\n",
       "      <th>886</th>\n",
       "      <td>2</td>\n",
       "      <td>27.0</td>\n",
       "      <td>0</td>\n",
       "      <td>0</td>\n",
       "      <td>13.0000</td>\n",
       "    </tr>\n",
       "    <tr>\n",
       "      <th>887</th>\n",
       "      <td>1</td>\n",
       "      <td>19.0</td>\n",
       "      <td>0</td>\n",
       "      <td>0</td>\n",
       "      <td>30.0000</td>\n",
       "    </tr>\n",
       "    <tr>\n",
       "      <th>888</th>\n",
       "      <td>3</td>\n",
       "      <td>NaN</td>\n",
       "      <td>1</td>\n",
       "      <td>2</td>\n",
       "      <td>23.4500</td>\n",
       "    </tr>\n",
       "    <tr>\n",
       "      <th>889</th>\n",
       "      <td>1</td>\n",
       "      <td>26.0</td>\n",
       "      <td>0</td>\n",
       "      <td>0</td>\n",
       "      <td>30.0000</td>\n",
       "    </tr>\n",
       "    <tr>\n",
       "      <th>890</th>\n",
       "      <td>3</td>\n",
       "      <td>32.0</td>\n",
       "      <td>0</td>\n",
       "      <td>0</td>\n",
       "      <td>7.7500</td>\n",
       "    </tr>\n",
       "  </tbody>\n",
       "</table>\n",
       "<p>891 rows × 5 columns</p>\n",
       "</div>"
      ],
      "text/plain": [
       "     Pclass   Age  SibSp  Parch     Fare\n",
       "0         3  22.0      1      0   7.2500\n",
       "1         1  38.0      1      0  71.2833\n",
       "2         3  26.0      0      0   7.9250\n",
       "3         1  35.0      1      0  53.1000\n",
       "4         3  35.0      0      0   8.0500\n",
       "..      ...   ...    ...    ...      ...\n",
       "886       2  27.0      0      0  13.0000\n",
       "887       1  19.0      0      0  30.0000\n",
       "888       3   NaN      1      2  23.4500\n",
       "889       1  26.0      0      0  30.0000\n",
       "890       3  32.0      0      0   7.7500\n",
       "\n",
       "[891 rows x 5 columns]"
      ]
     },
     "execution_count": 2,
     "metadata": {},
     "output_type": "execute_result"
    }
   ],
   "source": [
    "def get_numerical_features(df):\n",
    "    return df[['Pclass', 'Age', 'SibSp', 'Parch', 'Fare']]\n",
    "\n",
    "get_numerical_features(df)\n"
   ]
  },
  {
   "cell_type": "code",
   "execution_count": 3,
   "id": "57cc7974",
   "metadata": {},
   "outputs": [],
   "source": [
    "from sklearn import tree\n",
    "from sklearn.tree import DecisionTreeClassifier\n",
    "import matplotlib.pyplot as plt"
   ]
  },
  {
   "attachments": {},
   "cell_type": "markdown",
   "id": "4ddb4e8f",
   "metadata": {},
   "source": [
    "Sex"
   ]
  },
  {
   "cell_type": "code",
   "execution_count": 4,
   "id": "14d6440d",
   "metadata": {},
   "outputs": [],
   "source": [
    "# X[['Pclass', 'Age','Fare']] = X[['Pclass', 'Age','Fare']].fillna(0)\n",
    "X['Sex'] = X['Sex'].replace(['male', 'female'], [1, 0])\n"
   ]
  },
  {
   "attachments": {},
   "cell_type": "markdown",
   "id": "989de48b",
   "metadata": {},
   "source": [
    "Embarked"
   ]
  },
  {
   "cell_type": "code",
   "execution_count": 5,
   "id": "c9e8a577",
   "metadata": {},
   "outputs": [],
   "source": [
    "from sklearn.preprocessing import OneHotEncoder\n",
    "X['Embarked'].value_counts()\n",
    "X[['Embarked_C', 'Embarked_Q', 'Embarked_S']] = pd.get_dummies(X['Embarked'])\n",
    "X.drop(['Embarked'], axis=1, inplace=True)"
   ]
  },
  {
   "attachments": {},
   "cell_type": "markdown",
   "id": "0cf6a265",
   "metadata": {},
   "source": [
    "NA Age"
   ]
  },
  {
   "cell_type": "code",
   "execution_count": 6,
   "id": "9d78220d",
   "metadata": {},
   "outputs": [],
   "source": [
    "def NA_Age(data): # fill NA age with mean age of each class\n",
    "\n",
    "    testmeanAge = data['Age'].mean()\n",
    "    data['Age'] = data['Age'].fillna(testmeanAge)\n",
    "\n",
    "    # Pclass3_mean_age = int(data[data['Pclass'] == 3]['Age'].mean())\n",
    "    # Pclass2_mean_age = int(data[data['Pclass'] == 2]['Age'].mean())\n",
    "    # Pclass1_mean_age = int(data[data['Pclass'] == 1]['Age'].mean())\n",
    "    # print(Pclass3_mean_age, Pclass2_mean_age, Pclass1_mean_age)\n",
    "\n",
    "    # listnullAge = data[data['Age'].isna()].PassengerId.values.tolist()\n",
    "    # print(listnullAge)\n",
    "\n",
    "    # for id in listnullAge:\n",
    "    #     if data[data['PassengerId']== id]['Pclass'].values == 3:\n",
    "    #         data.loc[data['PassengerId'] == id, 'Age'] = Pclass3_mean_age\n",
    "    #     elif data[data['PassengerId'] == id]['Pclass'].values == 2:\n",
    "    #         data.loc[data['PassengerId'] == id, 'Age'] = Pclass2_mean_age\n",
    "    #     elif data[data['PassengerId'] == id]['Pclass'].values == 1:\n",
    "    #         data.loc[data['PassengerId'] == id, 'Age'] = Pclass1_mean_age\n",
    "        \n",
    "    return data"
   ]
  },
  {
   "attachments": {},
   "cell_type": "markdown",
   "id": "c35932bc",
   "metadata": {},
   "source": [
    "NA Fare"
   ]
  },
  {
   "cell_type": "code",
   "execution_count": 7,
   "id": "2a5dc512",
   "metadata": {},
   "outputs": [],
   "source": [
    "def NA_Fare(data):\n",
    "\n",
    "    Pclass3_mean_Fare = int(data[data['Pclass'] == 3]['Fare'].mean())\n",
    "    Pclass2_mean_Fare = int(data[data['Pclass'] == 2]['Fare'].mean())\n",
    "    Pclass1_mean_Fare = int(data[data['Pclass'] == 1]['Fare'].mean())\n",
    "    print(Pclass3_mean_Fare, Pclass2_mean_Fare, Pclass1_mean_Fare)\n",
    "\n",
    "    listnullFare = data[data['Fare'].isna()].PassengerId.values.tolist()\n",
    "    print(listnullFare)\n",
    "\n",
    "    for id in listnullFare:\n",
    "        if data[data['PassengerId']== id]['Pclass'].values == 3:\n",
    "            data.loc[data['PassengerId'] == id, 'Fare'] = Pclass3_mean_Fare\n",
    "        elif data[data['PassengerId'] == id]['Pclass'].values == 2:\n",
    "            data.loc[data['PassengerId'] == id, 'Fare'] = Pclass2_mean_Fare\n",
    "        elif data[data['PassengerId'] == id]['Pclass'].values == 1:\n",
    "            data.loc[data['PassengerId'] == id, 'Fare'] = Pclass1_mean_Fare\n",
    "\n",
    "    return data\n"
   ]
  },
  {
   "cell_type": "code",
   "execution_count": 8,
   "id": "104744e7",
   "metadata": {},
   "outputs": [
    {
     "data": {
      "text/plain": [
       "False"
      ]
     },
     "execution_count": 8,
     "metadata": {},
     "output_type": "execute_result"
    }
   ],
   "source": [
    "X['Fare'].isnull().any()"
   ]
  },
  {
   "cell_type": "code",
   "execution_count": 9,
   "id": "d80f5cd1",
   "metadata": {},
   "outputs": [
    {
     "name": "stdout",
     "output_type": "stream",
     "text": [
      "14 20 85\n",
      "[]\n",
      "11 20 81\n",
      "[]\n"
     ]
    }
   ],
   "source": [
    "from sklearn.model_selection import train_test_split\n",
    "\n",
    "X_train, X_test, y_train, y_test = train_test_split(X, y, test_size=0.33, random_state=42)\n",
    "\n",
    "X_train = NA_Age(X_train)\n",
    "X_train = NA_Fare(X_train)\n",
    "\n",
    "X_test = NA_Age(X_test)\n",
    "X_test = NA_Fare(X_test)"
   ]
  },
  {
   "attachments": {},
   "cell_type": "markdown",
   "id": "895797fa",
   "metadata": {},
   "source": [
    "Models"
   ]
  },
  {
   "cell_type": "code",
   "execution_count": 10,
   "id": "c989bd1c",
   "metadata": {},
   "outputs": [],
   "source": [
    "# random forest\n",
    "from sklearn.ensemble import RandomForestClassifier\n",
    "rf_model = RandomForestClassifier(n_estimators=100, max_depth=10, random_state=1)\n",
    "rf_model = rf_model.fit(X_train[['Pclass', 'Sex', 'Age', 'SibSp', 'Parch', 'Fare','Embarked_C', 'Embarked_Q', 'Embarked_S']] , y_train)\n",
    "\n",
    "# train an xgboost model\n",
    "from xgboost import XGBClassifier\n",
    "xgb_model = XGBClassifier()\n",
    "xgb_model = xgb_model.fit(X_train[['Pclass', 'Sex', 'Age', 'SibSp', 'Parch', 'Fare','Embarked_C', 'Embarked_Q', 'Embarked_S']] , y_train)"
   ]
  },
  {
   "attachments": {},
   "cell_type": "markdown",
   "id": "d681c8e9",
   "metadata": {},
   "source": [
    "Train Accuracy/Error"
   ]
  },
  {
   "cell_type": "code",
   "execution_count": 11,
   "id": "db6902a2",
   "metadata": {},
   "outputs": [
    {
     "name": "stdout",
     "output_type": "stream",
     "text": [
      "              precision    recall  f1-score   support\n",
      "\n",
      "           0       0.93      0.99      0.96       374\n",
      "           1       0.99      0.86      0.92       222\n",
      "\n",
      "    accuracy                           0.95       596\n",
      "   macro avg       0.96      0.93      0.94       596\n",
      "weighted avg       0.95      0.95      0.95       596\n",
      "\n"
     ]
    }
   ],
   "source": [
    "from sklearn.metrics import classification_report, confusion_matrix\n",
    "\n",
    "train_preds = rf_model.predict(X_train.drop(['PassengerId','Name','Ticket','Cabin'], axis=1))\n",
    "print(classification_report(y_train, train_preds))\n"
   ]
  },
  {
   "attachments": {},
   "cell_type": "markdown",
   "id": "b948c757",
   "metadata": {},
   "source": [
    "Validation Accuracy/Error"
   ]
  },
  {
   "cell_type": "code",
   "execution_count": 12,
   "id": "df276506",
   "metadata": {},
   "outputs": [],
   "source": [
    "rf_predictions = rf_model.predict(X_test.drop(['PassengerId','Name','Ticket','Cabin'], axis=1))\n",
    "xgb_predictions = xgb_model.predict(X_test.drop(['PassengerId','Name','Ticket','Cabin'], axis=1))"
   ]
  },
  {
   "cell_type": "code",
   "execution_count": 13,
   "id": "358bc0ac",
   "metadata": {},
   "outputs": [
    {
     "name": "stdout",
     "output_type": "stream",
     "text": [
      "              precision    recall  f1-score   support\n",
      "\n",
      "           0       0.81      0.88      0.84       175\n",
      "           1       0.80      0.70      0.75       120\n",
      "\n",
      "    accuracy                           0.81       295\n",
      "   macro avg       0.81      0.79      0.80       295\n",
      "weighted avg       0.81      0.81      0.80       295\n",
      "\n",
      "              precision    recall  f1-score   support\n",
      "\n",
      "           0       0.81      0.83      0.82       175\n",
      "           1       0.74      0.72      0.73       120\n",
      "\n",
      "    accuracy                           0.78       295\n",
      "   macro avg       0.78      0.77      0.77       295\n",
      "weighted avg       0.78      0.78      0.78       295\n",
      "\n"
     ]
    }
   ],
   "source": [
    "# sklearn classification metrics\n",
    "from sklearn.metrics import classification_report, confusion_matrix\n",
    "print(classification_report(y_test, rf_predictions))\n",
    "print(classification_report(y_test, xgb_predictions))"
   ]
  },
  {
   "attachments": {},
   "cell_type": "markdown",
   "id": "c7cf095d",
   "metadata": {},
   "source": [
    "## From here, we apply preprocessing and prediction on test data"
   ]
  },
  {
   "cell_type": "code",
   "execution_count": 14,
   "id": "4583b7d5",
   "metadata": {},
   "outputs": [],
   "source": [
    "test['Sex'] = test['Sex'].replace(['male', 'female'], [1, 0])\n",
    "\n",
    "test[['Embarked_C', 'Embarked_Q', 'Embarked_S']] = pd.get_dummies(test['Embarked'])\n",
    "test.drop(['Embarked'], axis=1, inplace=True)"
   ]
  },
  {
   "cell_type": "code",
   "execution_count": 15,
   "id": "7bdc0e45",
   "metadata": {},
   "outputs": [
    {
     "data": {
      "text/plain": [
       "False"
      ]
     },
     "execution_count": 15,
     "metadata": {},
     "output_type": "execute_result"
    }
   ],
   "source": [
    "test['Pclass'].isna().any()"
   ]
  },
  {
   "cell_type": "code",
   "execution_count": 16,
   "id": "a2ebb684",
   "metadata": {},
   "outputs": [
    {
     "data": {
      "text/plain": [
       "[902,\n",
       " 914,\n",
       " 921,\n",
       " 925,\n",
       " 928,\n",
       " 931,\n",
       " 933,\n",
       " 939,\n",
       " 946,\n",
       " 950,\n",
       " 957,\n",
       " 968,\n",
       " 975,\n",
       " 976,\n",
       " 977,\n",
       " 980,\n",
       " 983,\n",
       " 985,\n",
       " 994,\n",
       " 999,\n",
       " 1000,\n",
       " 1003,\n",
       " 1008,\n",
       " 1013,\n",
       " 1016,\n",
       " 1019,\n",
       " 1024,\n",
       " 1025,\n",
       " 1038,\n",
       " 1040,\n",
       " 1043,\n",
       " 1052,\n",
       " 1055,\n",
       " 1060,\n",
       " 1062,\n",
       " 1065,\n",
       " 1075,\n",
       " 1080,\n",
       " 1083,\n",
       " 1091,\n",
       " 1092,\n",
       " 1097,\n",
       " 1103,\n",
       " 1108,\n",
       " 1111,\n",
       " 1117,\n",
       " 1119,\n",
       " 1125,\n",
       " 1135,\n",
       " 1136,\n",
       " 1141,\n",
       " 1147,\n",
       " 1148,\n",
       " 1157,\n",
       " 1158,\n",
       " 1159,\n",
       " 1160,\n",
       " 1163,\n",
       " 1165,\n",
       " 1166,\n",
       " 1174,\n",
       " 1178,\n",
       " 1180,\n",
       " 1181,\n",
       " 1182,\n",
       " 1184,\n",
       " 1189,\n",
       " 1193,\n",
       " 1196,\n",
       " 1204,\n",
       " 1224,\n",
       " 1231,\n",
       " 1234,\n",
       " 1236,\n",
       " 1249,\n",
       " 1250,\n",
       " 1257,\n",
       " 1258,\n",
       " 1272,\n",
       " 1274,\n",
       " 1276,\n",
       " 1300,\n",
       " 1302,\n",
       " 1305,\n",
       " 1308,\n",
       " 1309]"
      ]
     },
     "execution_count": 16,
     "metadata": {},
     "output_type": "execute_result"
    }
   ],
   "source": [
    "test[test['Age'].isna()].PassengerId.values.tolist()"
   ]
  },
  {
   "cell_type": "code",
   "execution_count": 17,
   "id": "0a5723d1",
   "metadata": {},
   "outputs": [
    {
     "data": {
      "text/plain": [
       "True"
      ]
     },
     "execution_count": 17,
     "metadata": {},
     "output_type": "execute_result"
    }
   ],
   "source": [
    "test['Fare'].isnull().any()"
   ]
  },
  {
   "cell_type": "code",
   "execution_count": 18,
   "id": "98020335",
   "metadata": {},
   "outputs": [
    {
     "data": {
      "text/plain": [
       "[1044]"
      ]
     },
     "execution_count": 18,
     "metadata": {},
     "output_type": "execute_result"
    }
   ],
   "source": [
    "test[test['Fare'].isna()].PassengerId.values.tolist()"
   ]
  },
  {
   "cell_type": "code",
   "execution_count": 19,
   "id": "21334d71",
   "metadata": {},
   "outputs": [
    {
     "name": "stdout",
     "output_type": "stream",
     "text": [
      "12 22 94\n",
      "[1044]\n"
     ]
    }
   ],
   "source": [
    "test = NA_Age(test)\n",
    "test = NA_Fare(test)"
   ]
  },
  {
   "cell_type": "code",
   "execution_count": 20,
   "id": "eab6ce9b",
   "metadata": {},
   "outputs": [
    {
     "data": {
      "text/plain": [
       "[]"
      ]
     },
     "execution_count": 20,
     "metadata": {},
     "output_type": "execute_result"
    }
   ],
   "source": [
    "test[test['Fare'].isna()].PassengerId.values.tolist()"
   ]
  },
  {
   "cell_type": "code",
   "execution_count": 21,
   "id": "6d7f0b30",
   "metadata": {},
   "outputs": [
    {
     "data": {
      "text/plain": [
       "set()"
      ]
     },
     "execution_count": 21,
     "metadata": {},
     "output_type": "execute_result"
    }
   ],
   "source": [
    "# function to get columns with missing values in the dataset\n",
    "def get_missing_columns(df):\n",
    "    missing_cols = set()\n",
    "    for col in df.columns:\n",
    "        if df[col].isnull().any():\n",
    "            missing_cols.add(col)\n",
    "    return missing_cols\n",
    "get_missing_columns(test.drop(['PassengerId','Name','Ticket','Cabin'], axis=1))\n"
   ]
  },
  {
   "cell_type": "code",
   "execution_count": 22,
   "id": "68663a45",
   "metadata": {},
   "outputs": [
    {
     "data": {
      "text/plain": [
       "array([0, 0, 0, 0, 0, 0, 0, 0, 1, 0, 0, 0, 1, 0, 1, 1, 0, 0, 0, 1, 1, 1,\n",
       "       1, 0, 1, 0, 1, 1, 0, 0, 0, 0, 1, 0, 1, 0, 0, 0, 0, 1, 0, 0, 0, 1,\n",
       "       1, 0, 0, 0, 1, 1, 0, 1, 1, 1, 0, 0, 0, 0, 0, 1, 0, 0, 0, 1, 1, 1,\n",
       "       1, 0, 0, 1, 1, 0, 0, 0, 1, 0, 0, 1, 0, 1, 1, 0, 0, 0, 0, 0, 1, 0,\n",
       "       1, 1, 0, 0, 1, 0, 0, 0, 1, 0, 0, 0, 1, 0, 0, 0, 1, 0, 0, 0, 0, 0,\n",
       "       0, 1, 1, 0, 1, 0, 0, 1, 0, 1, 1, 0, 1, 0, 0, 1, 0, 1, 0, 0, 0, 0,\n",
       "       0, 0, 0, 0, 0, 0, 0, 0, 0, 1, 1, 0, 1, 0, 0, 0, 0, 0, 1, 0, 0, 1,\n",
       "       0, 0, 1, 0, 1, 1, 1, 1, 1, 0, 0, 0, 0, 0, 1, 0, 0, 0, 0, 0, 0, 1,\n",
       "       1, 1, 1, 1, 0, 0, 1, 0, 1, 0, 1, 0, 0, 0, 0, 0, 1, 0, 1, 0, 1, 0,\n",
       "       0, 0, 1, 1, 0, 1, 0, 0, 1, 0, 1, 0, 0, 0, 0, 1, 0, 0, 1, 0, 1, 0,\n",
       "       1, 0, 1, 0, 1, 1, 0, 1, 0, 0, 0, 1, 0, 0, 1, 0, 1, 0, 1, 1, 1, 1,\n",
       "       0, 0, 0, 0, 1, 0, 1, 0, 1, 0, 0, 0, 0, 0, 0, 0, 1, 0, 0, 0, 1, 1,\n",
       "       0, 0, 0, 0, 0, 0, 0, 0, 1, 1, 0, 1, 0, 0, 0, 0, 0, 1, 1, 1, 1, 0,\n",
       "       0, 0, 0, 0, 0, 0, 0, 0, 0, 0, 1, 0, 0, 0, 0, 0, 0, 0, 1, 1, 0, 1,\n",
       "       0, 0, 0, 1, 0, 1, 1, 1, 1, 0, 0, 0, 0, 0, 0, 0, 1, 0, 1, 0, 0, 0,\n",
       "       1, 0, 0, 1, 0, 0, 0, 0, 0, 0, 0, 0, 0, 1, 0, 1, 0, 1, 0, 1, 1, 0,\n",
       "       0, 0, 1, 0, 1, 0, 0, 1, 0, 1, 1, 0, 1, 0, 0, 0, 1, 1, 0, 1, 0, 0,\n",
       "       1, 1, 0, 0, 0, 1, 0, 0, 1, 0, 0, 1, 0, 0, 0, 0, 0, 1, 0, 0, 0, 1,\n",
       "       0, 1, 0, 0, 1, 0, 1, 0, 0, 1, 0, 0, 1, 1, 1, 1, 0, 0, 1, 0, 0, 0])"
      ]
     },
     "execution_count": 22,
     "metadata": {},
     "output_type": "execute_result"
    }
   ],
   "source": [
    "rf_model.predict(test.drop(['PassengerId','Name','Ticket','Cabin'], axis=1))"
   ]
  },
  {
   "cell_type": "code",
   "execution_count": 23,
   "id": "83dbeeb3",
   "metadata": {},
   "outputs": [],
   "source": [
    "passengers = test['PassengerId']"
   ]
  },
  {
   "cell_type": "code",
   "execution_count": 24,
   "id": "27d549ae",
   "metadata": {},
   "outputs": [],
   "source": [
    "result = pd.DataFrame({'PassengerId': passengers, 'Survived': rf_model.predict(test.drop(['PassengerId','Name','Ticket','Cabin'], axis=1))})"
   ]
  },
  {
   "cell_type": "code",
   "execution_count": 25,
   "id": "e70ffb85",
   "metadata": {},
   "outputs": [
    {
     "data": {
      "text/html": [
       "<div>\n",
       "<style scoped>\n",
       "    .dataframe tbody tr th:only-of-type {\n",
       "        vertical-align: middle;\n",
       "    }\n",
       "\n",
       "    .dataframe tbody tr th {\n",
       "        vertical-align: top;\n",
       "    }\n",
       "\n",
       "    .dataframe thead th {\n",
       "        text-align: right;\n",
       "    }\n",
       "</style>\n",
       "<table border=\"1\" class=\"dataframe\">\n",
       "  <thead>\n",
       "    <tr style=\"text-align: right;\">\n",
       "      <th></th>\n",
       "      <th>PassengerId</th>\n",
       "      <th>Survived</th>\n",
       "    </tr>\n",
       "  </thead>\n",
       "  <tbody>\n",
       "    <tr>\n",
       "      <th>0</th>\n",
       "      <td>892</td>\n",
       "      <td>0</td>\n",
       "    </tr>\n",
       "    <tr>\n",
       "      <th>1</th>\n",
       "      <td>893</td>\n",
       "      <td>0</td>\n",
       "    </tr>\n",
       "    <tr>\n",
       "      <th>2</th>\n",
       "      <td>894</td>\n",
       "      <td>0</td>\n",
       "    </tr>\n",
       "    <tr>\n",
       "      <th>3</th>\n",
       "      <td>895</td>\n",
       "      <td>0</td>\n",
       "    </tr>\n",
       "    <tr>\n",
       "      <th>4</th>\n",
       "      <td>896</td>\n",
       "      <td>0</td>\n",
       "    </tr>\n",
       "    <tr>\n",
       "      <th>...</th>\n",
       "      <td>...</td>\n",
       "      <td>...</td>\n",
       "    </tr>\n",
       "    <tr>\n",
       "      <th>413</th>\n",
       "      <td>1305</td>\n",
       "      <td>0</td>\n",
       "    </tr>\n",
       "    <tr>\n",
       "      <th>414</th>\n",
       "      <td>1306</td>\n",
       "      <td>1</td>\n",
       "    </tr>\n",
       "    <tr>\n",
       "      <th>415</th>\n",
       "      <td>1307</td>\n",
       "      <td>0</td>\n",
       "    </tr>\n",
       "    <tr>\n",
       "      <th>416</th>\n",
       "      <td>1308</td>\n",
       "      <td>0</td>\n",
       "    </tr>\n",
       "    <tr>\n",
       "      <th>417</th>\n",
       "      <td>1309</td>\n",
       "      <td>0</td>\n",
       "    </tr>\n",
       "  </tbody>\n",
       "</table>\n",
       "<p>418 rows × 2 columns</p>\n",
       "</div>"
      ],
      "text/plain": [
       "     PassengerId  Survived\n",
       "0            892         0\n",
       "1            893         0\n",
       "2            894         0\n",
       "3            895         0\n",
       "4            896         0\n",
       "..           ...       ...\n",
       "413         1305         0\n",
       "414         1306         1\n",
       "415         1307         0\n",
       "416         1308         0\n",
       "417         1309         0\n",
       "\n",
       "[418 rows x 2 columns]"
      ]
     },
     "execution_count": 25,
     "metadata": {},
     "output_type": "execute_result"
    }
   ],
   "source": [
    "result"
   ]
  },
  {
   "cell_type": "code",
   "execution_count": 26,
   "id": "e7a11035",
   "metadata": {},
   "outputs": [],
   "source": [
    "result.to_csv('result.csv', index=False)\n",
    "# ~0.77 accurac/y"
   ]
  }
 ],
 "metadata": {
  "kernelspec": {
   "display_name": "base",
   "language": "python",
   "name": "python3"
  },
  "language_info": {
   "codemirror_mode": {
    "name": "ipython",
    "version": 3
   },
   "file_extension": ".py",
   "mimetype": "text/x-python",
   "name": "python",
   "nbconvert_exporter": "python",
   "pygments_lexer": "ipython3",
   "version": "3.9.13"
  },
  "vscode": {
   "interpreter": {
    "hash": "a6c7d31b06c3305445eb7ba0c62c39ef93d76ed797904290bc3a84d81ea8a0ab"
   }
  }
 },
 "nbformat": 4,
 "nbformat_minor": 5
}
